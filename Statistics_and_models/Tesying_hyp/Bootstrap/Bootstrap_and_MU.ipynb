{
 "cells": [
  {
   "cell_type": "markdown",
   "id": "b55e916d",
   "metadata": {},
   "source": [
    "### Description of the experiment  \n",
    "Here is a table where the numeric variable is continuous.  \n",
    "The task is to compare groups in two ways: bootstrap and u-test\n",
    "\n",
    "Description of columns  \n",
    "value – metric values  \n",
    "experimentVariant – Test variant (Control – control group, Treatment – test group)  "
   ]
  },
  {
   "cell_type": "code",
   "execution_count": 1,
   "id": "2f303850",
   "metadata": {},
   "outputs": [],
   "source": [
    "import numpy as np\n",
    "import pandas as pd\n",
    "from scipy.stats import norm, mannwhitneyu\n",
    "import matplotlib.pyplot as plt\n",
    "import seaborn as sns\n",
    "from tqdm.auto import tqdm\n",
    "\n",
    "plt.style.use('ggplot')"
   ]
  },
  {
   "cell_type": "code",
   "execution_count": 2,
   "id": "94bd4950",
   "metadata": {},
   "outputs": [],
   "source": [
    "df = pd.read_csv('hw_bootstrap.csv', sep=';', decimal=',')"
   ]
  },
  {
   "cell_type": "code",
   "execution_count": 3,
   "id": "7bc4821a",
   "metadata": {},
   "outputs": [],
   "source": [
    "df.drop(columns='Unnamed: 0', axis=1, inplace=True)"
   ]
  },
  {
   "cell_type": "code",
   "execution_count": 4,
   "id": "04b06e1d",
   "metadata": {},
   "outputs": [
    {
     "name": "stdout",
     "output_type": "stream",
     "text": [
      "<class 'pandas.core.frame.DataFrame'>\n",
      "RangeIndex: 1000 entries, 0 to 999\n",
      "Data columns (total 2 columns):\n",
      " #   Column             Non-Null Count  Dtype  \n",
      "---  ------             --------------  -----  \n",
      " 0   value              1000 non-null   float64\n",
      " 1   experimentVariant  1000 non-null   object \n",
      "dtypes: float64(1), object(1)\n",
      "memory usage: 15.8+ KB\n"
     ]
    }
   ],
   "source": [
    "df.info()"
   ]
  },
  {
   "cell_type": "code",
   "execution_count": 5,
   "id": "4bde5c5f",
   "metadata": {},
   "outputs": [
    {
     "data": {
      "text/html": [
       "<div>\n",
       "<style scoped>\n",
       "    .dataframe tbody tr th:only-of-type {\n",
       "        vertical-align: middle;\n",
       "    }\n",
       "\n",
       "    .dataframe tbody tr th {\n",
       "        vertical-align: top;\n",
       "    }\n",
       "\n",
       "    .dataframe thead th {\n",
       "        text-align: right;\n",
       "    }\n",
       "</style>\n",
       "<table border=\"1\" class=\"dataframe\">\n",
       "  <thead>\n",
       "    <tr style=\"text-align: right;\">\n",
       "      <th></th>\n",
       "      <th>value</th>\n",
       "      <th>experimentVariant</th>\n",
       "    </tr>\n",
       "  </thead>\n",
       "  <tbody>\n",
       "    <tr>\n",
       "      <th>0</th>\n",
       "      <td>10.380495</td>\n",
       "      <td>Control</td>\n",
       "    </tr>\n",
       "    <tr>\n",
       "      <th>1</th>\n",
       "      <td>9.546867</td>\n",
       "      <td>Control</td>\n",
       "    </tr>\n",
       "    <tr>\n",
       "      <th>2</th>\n",
       "      <td>11.088215</td>\n",
       "      <td>Control</td>\n",
       "    </tr>\n",
       "    <tr>\n",
       "      <th>3</th>\n",
       "      <td>10.147274</td>\n",
       "      <td>Control</td>\n",
       "    </tr>\n",
       "    <tr>\n",
       "      <th>4</th>\n",
       "      <td>9.789808</td>\n",
       "      <td>Control</td>\n",
       "    </tr>\n",
       "    <tr>\n",
       "      <th>...</th>\n",
       "      <td>...</td>\n",
       "      <td>...</td>\n",
       "    </tr>\n",
       "    <tr>\n",
       "      <th>995</th>\n",
       "      <td>1000.000000</td>\n",
       "      <td>Treatment</td>\n",
       "    </tr>\n",
       "    <tr>\n",
       "      <th>996</th>\n",
       "      <td>1200.000000</td>\n",
       "      <td>Treatment</td>\n",
       "    </tr>\n",
       "    <tr>\n",
       "      <th>997</th>\n",
       "      <td>1500.000000</td>\n",
       "      <td>Treatment</td>\n",
       "    </tr>\n",
       "    <tr>\n",
       "      <th>998</th>\n",
       "      <td>2000.000000</td>\n",
       "      <td>Treatment</td>\n",
       "    </tr>\n",
       "    <tr>\n",
       "      <th>999</th>\n",
       "      <td>3000.000000</td>\n",
       "      <td>Treatment</td>\n",
       "    </tr>\n",
       "  </tbody>\n",
       "</table>\n",
       "<p>1000 rows × 2 columns</p>\n",
       "</div>"
      ],
      "text/plain": [
       "           value experimentVariant\n",
       "0      10.380495           Control\n",
       "1       9.546867           Control\n",
       "2      11.088215           Control\n",
       "3      10.147274           Control\n",
       "4       9.789808           Control\n",
       "..           ...               ...\n",
       "995  1000.000000         Treatment\n",
       "996  1200.000000         Treatment\n",
       "997  1500.000000         Treatment\n",
       "998  2000.000000         Treatment\n",
       "999  3000.000000         Treatment\n",
       "\n",
       "[1000 rows x 2 columns]"
      ]
     },
     "execution_count": 5,
     "metadata": {},
     "output_type": "execute_result"
    }
   ],
   "source": [
    "df"
   ]
  },
  {
   "cell_type": "code",
   "execution_count": 6,
   "id": "edc8761c",
   "metadata": {},
   "outputs": [
    {
     "data": {
      "text/html": [
       "<div>\n",
       "<style scoped>\n",
       "    .dataframe tbody tr th:only-of-type {\n",
       "        vertical-align: middle;\n",
       "    }\n",
       "\n",
       "    .dataframe tbody tr th {\n",
       "        vertical-align: top;\n",
       "    }\n",
       "\n",
       "    .dataframe thead th {\n",
       "        text-align: right;\n",
       "    }\n",
       "</style>\n",
       "<table border=\"1\" class=\"dataframe\">\n",
       "  <thead>\n",
       "    <tr style=\"text-align: right;\">\n",
       "      <th></th>\n",
       "      <th>experimentVariant</th>\n",
       "      <th>value</th>\n",
       "    </tr>\n",
       "  </thead>\n",
       "  <tbody>\n",
       "    <tr>\n",
       "      <th>0</th>\n",
       "      <td>Control</td>\n",
       "      <td>500</td>\n",
       "    </tr>\n",
       "    <tr>\n",
       "      <th>1</th>\n",
       "      <td>Treatment</td>\n",
       "      <td>500</td>\n",
       "    </tr>\n",
       "  </tbody>\n",
       "</table>\n",
       "</div>"
      ],
      "text/plain": [
       "  experimentVariant  value\n",
       "0           Control    500\n",
       "1         Treatment    500"
      ]
     },
     "execution_count": 6,
     "metadata": {},
     "output_type": "execute_result"
    }
   ],
   "source": [
    "df.groupby('experimentVariant', as_index=False).agg({'value': 'count'})"
   ]
  },
  {
   "cell_type": "code",
   "execution_count": 7,
   "id": "423e2591",
   "metadata": {},
   "outputs": [
    {
     "data": {
      "text/html": [
       "<div>\n",
       "<style scoped>\n",
       "    .dataframe tbody tr th:only-of-type {\n",
       "        vertical-align: middle;\n",
       "    }\n",
       "\n",
       "    .dataframe tbody tr th {\n",
       "        vertical-align: top;\n",
       "    }\n",
       "\n",
       "    .dataframe thead th {\n",
       "        text-align: right;\n",
       "    }\n",
       "</style>\n",
       "<table border=\"1\" class=\"dataframe\">\n",
       "  <thead>\n",
       "    <tr style=\"text-align: right;\">\n",
       "      <th></th>\n",
       "      <th>experimentVariant</th>\n",
       "      <th>value</th>\n",
       "    </tr>\n",
       "  </thead>\n",
       "  <tbody>\n",
       "    <tr>\n",
       "      <th>0</th>\n",
       "      <td>Control</td>\n",
       "      <td>10.026867</td>\n",
       "    </tr>\n",
       "    <tr>\n",
       "      <th>1</th>\n",
       "      <td>Treatment</td>\n",
       "      <td>27.321499</td>\n",
       "    </tr>\n",
       "  </tbody>\n",
       "</table>\n",
       "</div>"
      ],
      "text/plain": [
       "  experimentVariant      value\n",
       "0           Control  10.026867\n",
       "1         Treatment  27.321499"
      ]
     },
     "execution_count": 7,
     "metadata": {},
     "output_type": "execute_result"
    }
   ],
   "source": [
    "df.groupby('experimentVariant', as_index=False).agg({'value': 'mean'})"
   ]
  },
  {
   "cell_type": "code",
   "execution_count": 8,
   "id": "5687e826",
   "metadata": {},
   "outputs": [
    {
     "data": {
      "text/html": [
       "<div>\n",
       "<style scoped>\n",
       "    .dataframe tbody tr th:only-of-type {\n",
       "        vertical-align: middle;\n",
       "    }\n",
       "\n",
       "    .dataframe tbody tr th {\n",
       "        vertical-align: top;\n",
       "    }\n",
       "\n",
       "    .dataframe thead th {\n",
       "        text-align: right;\n",
       "    }\n",
       "</style>\n",
       "<table border=\"1\" class=\"dataframe\">\n",
       "  <thead>\n",
       "    <tr style=\"text-align: right;\">\n",
       "      <th></th>\n",
       "      <th>experimentVariant</th>\n",
       "      <th>value</th>\n",
       "    </tr>\n",
       "  </thead>\n",
       "  <tbody>\n",
       "    <tr>\n",
       "      <th>0</th>\n",
       "      <td>Control</td>\n",
       "      <td>10.018465</td>\n",
       "    </tr>\n",
       "    <tr>\n",
       "      <th>1</th>\n",
       "      <td>Treatment</td>\n",
       "      <td>10.025847</td>\n",
       "    </tr>\n",
       "  </tbody>\n",
       "</table>\n",
       "</div>"
      ],
      "text/plain": [
       "  experimentVariant      value\n",
       "0           Control  10.018465\n",
       "1         Treatment  10.025847"
      ]
     },
     "execution_count": 8,
     "metadata": {},
     "output_type": "execute_result"
    }
   ],
   "source": [
    "df.groupby('experimentVariant', as_index=False).agg({'value': 'median'})"
   ]
  },
  {
   "cell_type": "markdown",
   "id": "4599b3f3",
   "metadata": {},
   "source": [
    "In real life, this data would be worth checking and clearing outliers."
   ]
  },
  {
   "cell_type": "markdown",
   "id": "05670567",
   "metadata": {},
   "source": [
    "#### Apply bootstrap (with np.mean) and mann-whitney test and then compare p-value"
   ]
  },
  {
   "cell_type": "code",
   "execution_count": 9,
   "id": "4a2df166",
   "metadata": {},
   "outputs": [],
   "source": [
    "# a function will allow us to test hypotheses using the bootstrap\n",
    "def get_bootstrap(\n",
    "    data_column_1, # numeric values of the first sample\n",
    "    data_column_2, # numeric values of the second sample\n",
    "    boot_it = 1000, # number of bootstrap subsamples\n",
    "    statistic = np.mean, # the statistics we are interested in\n",
    "    bootstrap_conf_level = 0.95 # significance level\n",
    "):\n",
    "    boot_len = max([len(data_column_1), len(data_column_2)])\n",
    "    boot_data = []\n",
    "    for i in tqdm(range(boot_it)): # extract subsamples\n",
    "        samples_1 = data_column_1.sample(\n",
    "            boot_len, \n",
    "            replace = True # return parameter\n",
    "        ).values\n",
    "        \n",
    "        samples_2 = data_column_2.sample(\n",
    "            boot_len, \n",
    "            replace = True\n",
    "        ).values\n",
    "        \n",
    "        boot_data.append(statistic(samples_1-samples_2)) # mean() - apply statistics\n",
    "        \n",
    "    pd_boot_data = pd.DataFrame(boot_data)\n",
    "        \n",
    "    left_quant = (1 - bootstrap_conf_level)/2\n",
    "    right_quant = 1 - (1 - bootstrap_conf_level) / 2\n",
    "    ci = pd_boot_data.quantile([left_quant, right_quant])\n",
    "        \n",
    "    p_1 = norm.cdf(\n",
    "        x = 0, \n",
    "        loc = np.mean(boot_data), \n",
    "        scale = np.std(boot_data)\n",
    "    )\n",
    "    p_2 = norm.cdf(\n",
    "        x = 0, \n",
    "        loc = -np.mean(boot_data), \n",
    "        scale = np.std(boot_data)\n",
    "    )\n",
    "    p_value = min(p_1, p_2) * 2\n",
    "        \n",
    "    # Visualization\n",
    "    plt.hist(pd_boot_data[0], bins = 50)\n",
    "    \n",
    "    plt.style.use('ggplot')\n",
    "    plt.vlines(ci,ymin=0,ymax=60,linestyle='--',colors='black')\n",
    "    plt.xlabel('boot_data')\n",
    "    plt.ylabel('frequency')\n",
    "    plt.title(\"Histogram of boot_data\")\n",
    "    plt.show()\n",
    "       \n",
    "    return {\"boot_data\": boot_data, \n",
    "            \"ci\": ci, \n",
    "            \"p_value\": p_value}"
   ]
  },
  {
   "cell_type": "code",
   "execution_count": 10,
   "id": "c5f92267",
   "metadata": {},
   "outputs": [
    {
     "data": {
      "application/vnd.jupyter.widget-view+json": {
       "model_id": "8318f4dc1abd43d0bd8645794f8e22e3",
       "version_major": 2,
       "version_minor": 0
      },
      "text/plain": [
       "  0%|          | 0/5000 [00:00<?, ?it/s]"
      ]
     },
     "metadata": {},
     "output_type": "display_data"
    },
    {
     "data": {
      "image/png": "[encoded data removed]",
      "text/plain": [
       "<Figure size 432x288 with 1 Axes>"
      ]
     },
     "metadata": {},
     "output_type": "display_data"
    }
   ],
   "source": [
    "booted_data_mean = get_bootstrap(df.query('experimentVariant == \"Control\"').value, \n",
    "                                 df.query('experimentVariant == \"Treatment\"').value, boot_it = 5000)"
   ]
  },
  {
   "cell_type": "code",
   "execution_count": 11,
   "id": "c7dcbd2b",
   "metadata": {},
   "outputs": [
    {
     "data": {
      "text/plain": [
       "0.03619718104182933"
      ]
     },
     "execution_count": 11,
     "metadata": {},
     "output_type": "execute_result"
    }
   ],
   "source": [
    "# p_value for bootstrap\n",
    "booted_data_mean['p_value']"
   ]
  },
  {
   "cell_type": "code",
   "execution_count": 12,
   "id": "c93f50db",
   "metadata": {},
   "outputs": [
    {
     "data": {
      "text/plain": [
       "0.8592148582485579"
      ]
     },
     "execution_count": 12,
     "metadata": {},
     "output_type": "execute_result"
    }
   ],
   "source": [
    "# p_value for mann-whitney\n",
    "mannwhitneyu(df.query('experimentVariant == \"Control\"').value, df.query('experimentVariant == \"Treatment\"').value)[1]"
   ]
  },
  {
   "cell_type": "markdown",
   "id": "fa7ffb52",
   "metadata": {},
   "source": [
    "When using bootstrap, because p_value < 0.05 there are reasons to reject the null hypothesis about the equality of the means, but if the significance level were taken to be 0.01, then it would be impossible to reject the null hypothesis about the equality of the means. "
   ]
  },
  {
   "cell_type": "markdown",
   "id": "aacbb372",
   "metadata": {},
   "source": [
    "When applying mann-whitney, we can definitely say that there is no reason to reject the null hypothesis that the distributions of both groups do not differ, since p_value > 0.05"
   ]
  },
  {
   "cell_type": "markdown",
   "id": "96a7fba7",
   "metadata": {},
   "source": [
    "#### Let's apply the bootstrap (with np.median) and the mann-whitney test, and then compare the p-value."
   ]
  },
  {
   "cell_type": "code",
   "execution_count": 13,
   "id": "e6cbad50",
   "metadata": {
    "scrolled": true
   },
   "outputs": [
    {
     "data": {
      "application/vnd.jupyter.widget-view+json": {
       "model_id": "10175cb22ebb4d2a88e73b76fff063a9",
       "version_major": 2,
       "version_minor": 0
      },
      "text/plain": [
       "  0%|          | 0/5000 [00:00<?, ?it/s]"
      ]
     },
     "metadata": {},
     "output_type": "display_data"
    },
    {
     "data": {
      "image/png": "[encoded data removed]",
      "text/plain": [
       "<Figure size 432x288 with 1 Axes>"
      ]
     },
     "metadata": {},
     "output_type": "display_data"
    }
   ],
   "source": [
    "booted_data_median = get_bootstrap(df.query('experimentVariant == \"Control\"').value, \n",
    "                                   df.query('experimentVariant == \"Treatment\"').value, \n",
    "                                   boot_it = 5000, statistic = np.median)"
   ]
  },
  {
   "cell_type": "code",
   "execution_count": 14,
   "id": "67616bbb",
   "metadata": {},
   "outputs": [
    {
     "data": {
      "text/plain": [
       "0.8824129320555123"
      ]
     },
     "execution_count": 14,
     "metadata": {},
     "output_type": "execute_result"
    }
   ],
   "source": [
    "# p_value for bootstrap\n",
    "booted_data_median['p_value']"
   ]
  },
  {
   "cell_type": "code",
   "execution_count": 15,
   "id": "1d964ff0",
   "metadata": {},
   "outputs": [
    {
     "data": {
      "text/plain": [
       "0.8592148582485579"
      ]
     },
     "execution_count": 15,
     "metadata": {},
     "output_type": "execute_result"
    }
   ],
   "source": [
    "# p_value for mann-whitney\n",
    "mannwhitneyu(df.query('experimentVariant == \"Control\"').value, df.query('experimentVariant == \"Treatment\"').value)[1]"
   ]
  },
  {
   "cell_type": "markdown",
   "id": "db573c6d",
   "metadata": {},
   "source": [
    "In this case, the p_values of both criteria are almost the same and > 0.05, i.e. there is no reason to reject the null hypotheses that the medians and distributions of the groups are statistically significantly different."
   ]
  },
  {
   "cell_type": "markdown",
   "id": "ab55436d",
   "metadata": {},
   "source": [
    "Most likely, when applying the bootstrap with np.mean, p_value was affected by outliers in the Treatment group"
   ]
  },
  {
   "cell_type": "code",
   "execution_count": 16,
   "id": "7728d809",
   "metadata": {
    "scrolled": true
   },
   "outputs": [
    {
     "data": {
      "image/png": "[encoded data removed]",
      "text/plain": [
       "<Figure size 432x288 with 1 Axes>"
      ]
     },
     "metadata": {},
     "output_type": "display_data"
    }
   ],
   "source": [
    "sns.boxplot(x=\"experimentVariant\", y=\"value\", data=df);"
   ]
  },
  {
   "cell_type": "markdown",
   "id": "f2f6ea78",
   "metadata": {},
   "source": [
    "## Conclusions\n",
    "* The test sample has large outliers, which greatly distorts the mean value for us.  \n",
    "* Using a bootstrap with a mean estimate, we could reject the null hypothesis that the means are equal and conclude that the test and control samples have differences.  \n",
    "* However, the same bootstrap, but already by the median, does not allow us to reject the null hypothesis, since the p-value is much greater than 0.05, because here another hypothesis is being tested.  \n",
    "* The Mann-Whitney U test would also prevent us from rejecting the null hypothesis. The p-value estimates are just as directed as the median bootstrap."
   ]
  }
 ],
 "metadata": {
  "kernelspec": {
   "display_name": "Python 3",
   "language": "python",
   "name": "python3"
  },
  "language_info": {
   "codemirror_mode": {
    "name": "ipython",
    "version": 3
   },
   "file_extension": ".py",
   "mimetype": "text/x-python",
   "name": "python",
   "nbconvert_exporter": "python",
   "pygments_lexer": "ipython3",
   "version": "3.8.8"
  }
 },
 "nbformat": 4,
 "nbformat_minor": 5
}
