{
 "cells": [
  {
   "cell_type": "markdown",
   "id": "8ca7cddb",
   "metadata": {},
   "source": [
    "### A/B testing"
   ]
  },
  {
   "cell_type": "markdown",
   "id": "c37575bc",
   "metadata": {},
   "source": [
    "Imagine that you are an analyst at a very large pizza delivery company working on a delivery app.  \n",
    "\n",
    "You have several restaurants in different parts of the city and a whole staff of couriers. But there is one problem - in the evening, the delivery speed drops due to the fact that the couriers go home after the working day, and the number of orders only grows.  \n",
    "\n",
    "Our data scientists have come up with a new algorithm that allows couriers to schedule their last orders before the end of the working day so that their delivery route matches the route home.  \n",
    "\n",
    "Together with your team, you decided to roll out an A/B test for two equal groups of couriers. Some couriers use the old algorithm without the \"along the way\" option, others see this option in their application and can select it.  \n",
    "\n",
    "Your task is to analyze the data of the experiment and help the business make a decision about rolling out a new feature to all couriers."
   ]
  },
  {
   "cell_type": "code",
   "execution_count": 21,
   "id": "4dbedc0b",
   "metadata": {},
   "outputs": [],
   "source": [
    "import pandas as pd\n",
    "import numpy as np\n",
    "import seaborn as sns\n",
    "from scipy import stats\n",
    "import seaborn as sns\n",
    "import matplotlib.pyplot as plt\n",
    "sns.set(rc={'figure.figsize':(12,6)}, style=\"darkgrid\")"
   ]
  },
  {
   "cell_type": "code",
   "execution_count": 22,
   "id": "ef03ef74",
   "metadata": {},
   "outputs": [],
   "source": [
    "df = pd.read_csv('experiment_lesson_4.csv')"
   ]
  },
  {
   "cell_type": "code",
   "execution_count": 23,
   "id": "58efb280",
   "metadata": {},
   "outputs": [
    {
     "data": {
      "text/html": [
       "<div>\n",
       "<style scoped>\n",
       "    .dataframe tbody tr th:only-of-type {\n",
       "        vertical-align: middle;\n",
       "    }\n",
       "\n",
       "    .dataframe tbody tr th {\n",
       "        vertical-align: top;\n",
       "    }\n",
       "\n",
       "    .dataframe thead th {\n",
       "        text-align: right;\n",
       "    }\n",
       "</style>\n",
       "<table border=\"1\" class=\"dataframe\">\n",
       "  <thead>\n",
       "    <tr style=\"text-align: right;\">\n",
       "      <th></th>\n",
       "      <th>order_id</th>\n",
       "      <th>delivery_time</th>\n",
       "      <th>district</th>\n",
       "      <th>experiment_group</th>\n",
       "    </tr>\n",
       "  </thead>\n",
       "  <tbody>\n",
       "    <tr>\n",
       "      <th>0</th>\n",
       "      <td>3159</td>\n",
       "      <td>44.0</td>\n",
       "      <td>Purlieus</td>\n",
       "      <td>control</td>\n",
       "    </tr>\n",
       "    <tr>\n",
       "      <th>1</th>\n",
       "      <td>10426</td>\n",
       "      <td>51.0</td>\n",
       "      <td>Purlieus</td>\n",
       "      <td>control</td>\n",
       "    </tr>\n",
       "    <tr>\n",
       "      <th>2</th>\n",
       "      <td>9155</td>\n",
       "      <td>46.0</td>\n",
       "      <td>Purlieus</td>\n",
       "      <td>control</td>\n",
       "    </tr>\n",
       "    <tr>\n",
       "      <th>3</th>\n",
       "      <td>10699</td>\n",
       "      <td>34.0</td>\n",
       "      <td>Purlieus</td>\n",
       "      <td>control</td>\n",
       "    </tr>\n",
       "    <tr>\n",
       "      <th>4</th>\n",
       "      <td>10061</td>\n",
       "      <td>43.0</td>\n",
       "      <td>Purlieus</td>\n",
       "      <td>control</td>\n",
       "    </tr>\n",
       "    <tr>\n",
       "      <th>...</th>\n",
       "      <td>...</td>\n",
       "      <td>...</td>\n",
       "      <td>...</td>\n",
       "      <td>...</td>\n",
       "    </tr>\n",
       "    <tr>\n",
       "      <th>20191</th>\n",
       "      <td>14561</td>\n",
       "      <td>42.0</td>\n",
       "      <td>Suburb</td>\n",
       "      <td>test</td>\n",
       "    </tr>\n",
       "    <tr>\n",
       "      <th>20192</th>\n",
       "      <td>12015</td>\n",
       "      <td>32.0</td>\n",
       "      <td>Suburb</td>\n",
       "      <td>test</td>\n",
       "    </tr>\n",
       "    <tr>\n",
       "      <th>20193</th>\n",
       "      <td>20077</td>\n",
       "      <td>23.0</td>\n",
       "      <td>Purlieus</td>\n",
       "      <td>test</td>\n",
       "    </tr>\n",
       "    <tr>\n",
       "      <th>20194</th>\n",
       "      <td>14861</td>\n",
       "      <td>41.0</td>\n",
       "      <td>Central</td>\n",
       "      <td>test</td>\n",
       "    </tr>\n",
       "    <tr>\n",
       "      <th>20195</th>\n",
       "      <td>13501</td>\n",
       "      <td>41.0</td>\n",
       "      <td>Central</td>\n",
       "      <td>test</td>\n",
       "    </tr>\n",
       "  </tbody>\n",
       "</table>\n",
       "<p>20196 rows × 4 columns</p>\n",
       "</div>"
      ],
      "text/plain": [
       "       order_id  delivery_time  district experiment_group\n",
       "0          3159           44.0  Purlieus          control\n",
       "1         10426           51.0  Purlieus          control\n",
       "2          9155           46.0  Purlieus          control\n",
       "3         10699           34.0  Purlieus          control\n",
       "4         10061           43.0  Purlieus          control\n",
       "...         ...            ...       ...              ...\n",
       "20191     14561           42.0    Suburb             test\n",
       "20192     12015           32.0    Suburb             test\n",
       "20193     20077           23.0  Purlieus             test\n",
       "20194     14861           41.0   Central             test\n",
       "20195     13501           41.0   Central             test\n",
       "\n",
       "[20196 rows x 4 columns]"
      ]
     },
     "execution_count": 23,
     "metadata": {},
     "output_type": "execute_result"
    }
   ],
   "source": [
    "df"
   ]
  },
  {
   "cell_type": "markdown",
   "id": "867c64f7",
   "metadata": {},
   "source": [
    "Null hypothesis (H0): There is no difference between the average delivery time in the test and control groups.  \n",
    "Alternative hypothesis (H1): There is a difference between the average delivery time in the test and control groups."
   ]
  },
  {
   "cell_type": "code",
   "execution_count": 24,
   "id": "e3dd87a3",
   "metadata": {
    "scrolled": false
   },
   "outputs": [
    {
     "data": {
      "image/png": "[encoded data removed]",
      "text/plain": [
       "<Figure size 864x432 with 1 Axes>"
      ]
     },
     "metadata": {},
     "output_type": "display_data"
    }
   ],
   "source": [
    "df.query('experiment_group == \"control\"').groupby('district').delivery_time.hist();"
   ]
  },
  {
   "cell_type": "code",
   "execution_count": 25,
   "id": "ad230f71",
   "metadata": {},
   "outputs": [
    {
     "data": {
      "image/png": "[encoded data removed]",
      "text/plain": [
       "<Figure size 864x432 with 1 Axes>"
      ]
     },
     "metadata": {},
     "output_type": "display_data"
    }
   ],
   "source": [
    "df.query('experiment_group == \"test\"').groupby('district').delivery_time.hist();"
   ]
  },
  {
   "cell_type": "code",
   "execution_count": 28,
   "id": "885660e1",
   "metadata": {},
   "outputs": [
    {
     "data": {
      "text/plain": [
       "Text(0.5, 1.0, 'Distribution in test group')"
      ]
     },
     "execution_count": 28,
     "metadata": {},
     "output_type": "execute_result"
    },
    {
     "data": {
      "image/png": "[encoded data removed]",
      "text/plain": [
       "<Figure size 1080x576 with 2 Axes>"
      ]
     },
     "metadata": {},
     "output_type": "display_data"
    }
   ],
   "source": [
    "fig, ax = plt.subplots(nrows=1, ncols=2, figsize=(15,8))\n",
    "sns.histplot(df.query('experiment_group == \"control\"').delivery_time, ax=ax[0], palette=\"rocket\").set_title('Distribution in control group')\n",
    "sns.histplot(df.query('experiment_group == \"test\"').delivery_time, ax=ax[1], palette=\"rocket\").set_title('Distribution in test group')"
   ]
  },
  {
   "cell_type": "markdown",
   "id": "a61854cb",
   "metadata": {},
   "source": [
    "To check if the distribution is normal, I use SHAPIRO-WILK TEST.  \n",
    "This test shows that the values in the control and test group are the distribution is NORMAL"
   ]
  },
  {
   "cell_type": "code",
   "execution_count": 29,
   "id": "28152528",
   "metadata": {},
   "outputs": [
    {
     "data": {
      "text/plain": [
       "ShapiroResult(statistic=0.9975479245185852, pvalue=0.14013493061065674)"
      ]
     },
     "execution_count": 29,
     "metadata": {},
     "output_type": "execute_result"
    }
   ],
   "source": [
    "stats.shapiro(df[df['experiment_group'] == 'test']['delivery_time'].sample(1000, random_state=17))"
   ]
  },
  {
   "cell_type": "code",
   "execution_count": 30,
   "id": "0ef7722c",
   "metadata": {},
   "outputs": [
    {
     "data": {
      "text/plain": [
       "ShapiroResult(statistic=0.9974725842475891, pvalue=0.12411931157112122)"
      ]
     },
     "execution_count": 30,
     "metadata": {},
     "output_type": "execute_result"
    }
   ],
   "source": [
    "stats.shapiro(df[df['experiment_group'] == 'control']['delivery_time'].sample(1000, random_state=17))"
   ]
  },
  {
   "cell_type": "markdown",
   "id": "9408fb12",
   "metadata": {},
   "source": [
    "To compare the means in these experimental groups, I use STUDENT'S T-TEST"
   ]
  },
  {
   "cell_type": "code",
   "execution_count": 33,
   "id": "f50e3d0d",
   "metadata": {},
   "outputs": [],
   "source": [
    "statistic, pvalue = stats.ttest_ind(df[df['experiment_group'] == 'test']['delivery_time'], df[df['experiment_group'] == 'control']['delivery_time'])"
   ]
  },
  {
   "cell_type": "code",
   "execution_count": 34,
   "id": "b970b08e",
   "metadata": {},
   "outputs": [
    {
     "name": "stdout",
     "output_type": "stream",
     "text": [
      "The significance level is p < 0.05, which means that the obtained deviations are statistically significant - we reject H0\n"
     ]
    }
   ],
   "source": [
    "prob = 0.95\n",
    "alpha = 1.0 - prob\n",
    "if pvalue <= alpha:\n",
    "    print('The significance level is p < 0.05, which means that the obtained deviations are statistically significant - we reject H0')\n",
    "else:\n",
    "    print('The significance level is p > 0.05, which means that the obtained deviations are not statistically significant - we do not reject H0')"
   ]
  },
  {
   "cell_type": "markdown",
   "id": "f66e398a",
   "metadata": {},
   "source": [
    "The average delivery time in the test group compared to the control group changed by -13.35%"
   ]
  },
  {
   "cell_type": "code",
   "execution_count": 32,
   "id": "bc69d182",
   "metadata": {},
   "outputs": [
    {
     "data": {
      "text/plain": [
       "-0.13354653121660812"
      ]
     },
     "execution_count": 32,
     "metadata": {},
     "output_type": "execute_result"
    }
   ],
   "source": [
    "(df[df['experiment_group'] == 'test']['delivery_time'].mean() - df[df['experiment_group'] == 'control']['delivery_time'].mean())/df[df['experiment_group'] == 'control']['delivery_time'].mean()"
   ]
  },
  {
   "cell_type": "markdown",
   "id": "f4c3593a",
   "metadata": {},
   "source": [
    "**Conclusion.**\n",
    "We roll out the new algorithm for everyone, since the average delivery time has changed statistically significantly.  \n",
    "The average delivery time in the test is less than in the control."
   ]
  }
 ],
 "metadata": {
  "kernelspec": {
   "display_name": "Python 3",
   "language": "python",
   "name": "python3"
  },
  "language_info": {
   "codemirror_mode": {
    "name": "ipython",
    "version": 3
   },
   "file_extension": ".py",
   "mimetype": "text/x-python",
   "name": "python",
   "nbconvert_exporter": "python",
   "pygments_lexer": "ipython3",
   "version": "3.8.8"
  }
 },
 "nbformat": 4,
 "nbformat_minor": 5
}
