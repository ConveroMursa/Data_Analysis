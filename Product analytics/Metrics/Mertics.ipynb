{
 "cells": [
  {
   "cell_type": "markdown",
   "id": "3389d9e1",
   "metadata": {},
   "source": [
    "# Application usage analysis"
   ]
  },
  {
   "cell_type": "code",
   "execution_count": 1,
   "id": "e1dff1a3",
   "metadata": {},
   "outputs": [],
   "source": [
    "import pandas as pd\n",
    "import datetime\n",
    "import numpy as np"
   ]
  },
  {
   "cell_type": "code",
   "execution_count": 2,
   "id": "98c19bdb",
   "metadata": {},
   "outputs": [],
   "source": [
    "df = pd.read_csv('KC_case_data.csv')"
   ]
  },
  {
   "cell_type": "code",
   "execution_count": 3,
   "id": "8f8d1796",
   "metadata": {},
   "outputs": [
    {
     "data": {
      "text/html": [
       "<div>\n",
       "<style scoped>\n",
       "    .dataframe tbody tr th:only-of-type {\n",
       "        vertical-align: middle;\n",
       "    }\n",
       "\n",
       "    .dataframe tbody tr th {\n",
       "        vertical-align: top;\n",
       "    }\n",
       "\n",
       "    .dataframe thead th {\n",
       "        text-align: right;\n",
       "    }\n",
       "</style>\n",
       "<table border=\"1\" class=\"dataframe\">\n",
       "  <thead>\n",
       "    <tr style=\"text-align: right;\">\n",
       "      <th></th>\n",
       "      <th>Unnamed: 0</th>\n",
       "      <th>date</th>\n",
       "      <th>event</th>\n",
       "      <th>purchase_sum</th>\n",
       "      <th>os_name</th>\n",
       "      <th>device_id</th>\n",
       "      <th>utm_source</th>\n",
       "    </tr>\n",
       "  </thead>\n",
       "  <tbody>\n",
       "    <tr>\n",
       "      <th>0</th>\n",
       "      <td>1</td>\n",
       "      <td>2020-01-01</td>\n",
       "      <td>app_start</td>\n",
       "      <td>NaN</td>\n",
       "      <td>ios</td>\n",
       "      <td>833621</td>\n",
       "      <td>vk_ads</td>\n",
       "    </tr>\n",
       "    <tr>\n",
       "      <th>1</th>\n",
       "      <td>2</td>\n",
       "      <td>2020-01-01</td>\n",
       "      <td>app_start</td>\n",
       "      <td>NaN</td>\n",
       "      <td>android</td>\n",
       "      <td>1579237</td>\n",
       "      <td>referal</td>\n",
       "    </tr>\n",
       "    <tr>\n",
       "      <th>2</th>\n",
       "      <td>3</td>\n",
       "      <td>2020-01-01</td>\n",
       "      <td>app_start</td>\n",
       "      <td>NaN</td>\n",
       "      <td>android</td>\n",
       "      <td>1737182</td>\n",
       "      <td>facebook_ads</td>\n",
       "    </tr>\n",
       "    <tr>\n",
       "      <th>3</th>\n",
       "      <td>4</td>\n",
       "      <td>2020-01-01</td>\n",
       "      <td>app_start</td>\n",
       "      <td>NaN</td>\n",
       "      <td>ios</td>\n",
       "      <td>4029024</td>\n",
       "      <td>facebook_ads</td>\n",
       "    </tr>\n",
       "    <tr>\n",
       "      <th>4</th>\n",
       "      <td>6</td>\n",
       "      <td>2020-01-01</td>\n",
       "      <td>app_start</td>\n",
       "      <td>NaN</td>\n",
       "      <td>android</td>\n",
       "      <td>8383386</td>\n",
       "      <td>vk_ads</td>\n",
       "    </tr>\n",
       "    <tr>\n",
       "      <th>5</th>\n",
       "      <td>7</td>\n",
       "      <td>2020-01-01</td>\n",
       "      <td>app_start</td>\n",
       "      <td>NaN</td>\n",
       "      <td>android</td>\n",
       "      <td>8581267</td>\n",
       "      <td>google_ads</td>\n",
       "    </tr>\n",
       "    <tr>\n",
       "      <th>6</th>\n",
       "      <td>9</td>\n",
       "      <td>2020-01-01</td>\n",
       "      <td>app_start</td>\n",
       "      <td>NaN</td>\n",
       "      <td>ios</td>\n",
       "      <td>10274354</td>\n",
       "      <td>instagram_ads</td>\n",
       "    </tr>\n",
       "    <tr>\n",
       "      <th>7</th>\n",
       "      <td>10</td>\n",
       "      <td>2020-01-01</td>\n",
       "      <td>app_start</td>\n",
       "      <td>NaN</td>\n",
       "      <td>android</td>\n",
       "      <td>11876266</td>\n",
       "      <td>yandex-direct</td>\n",
       "    </tr>\n",
       "    <tr>\n",
       "      <th>8</th>\n",
       "      <td>12</td>\n",
       "      <td>2020-01-01</td>\n",
       "      <td>app_start</td>\n",
       "      <td>NaN</td>\n",
       "      <td>ios</td>\n",
       "      <td>12424502</td>\n",
       "      <td>yandex-direct</td>\n",
       "    </tr>\n",
       "    <tr>\n",
       "      <th>9</th>\n",
       "      <td>13</td>\n",
       "      <td>2020-01-01</td>\n",
       "      <td>app_start</td>\n",
       "      <td>NaN</td>\n",
       "      <td>ios</td>\n",
       "      <td>12560979</td>\n",
       "      <td>google_ads</td>\n",
       "    </tr>\n",
       "  </tbody>\n",
       "</table>\n",
       "</div>"
      ],
      "text/plain": [
       "   Unnamed: 0        date      event  purchase_sum  os_name  device_id  \\\n",
       "0           1  2020-01-01  app_start           NaN      ios     833621   \n",
       "1           2  2020-01-01  app_start           NaN  android    1579237   \n",
       "2           3  2020-01-01  app_start           NaN  android    1737182   \n",
       "3           4  2020-01-01  app_start           NaN      ios    4029024   \n",
       "4           6  2020-01-01  app_start           NaN  android    8383386   \n",
       "5           7  2020-01-01  app_start           NaN  android    8581267   \n",
       "6           9  2020-01-01  app_start           NaN      ios   10274354   \n",
       "7          10  2020-01-01  app_start           NaN  android   11876266   \n",
       "8          12  2020-01-01  app_start           NaN      ios   12424502   \n",
       "9          13  2020-01-01  app_start           NaN      ios   12560979   \n",
       "\n",
       "      utm_source  \n",
       "0         vk_ads  \n",
       "1        referal  \n",
       "2   facebook_ads  \n",
       "3   facebook_ads  \n",
       "4         vk_ads  \n",
       "5     google_ads  \n",
       "6  instagram_ads  \n",
       "7  yandex-direct  \n",
       "8  yandex-direct  \n",
       "9     google_ads  "
      ]
     },
     "execution_count": 3,
     "metadata": {},
     "output_type": "execute_result"
    }
   ],
   "source": [
    "df.head(10)"
   ]
  },
  {
   "cell_type": "markdown",
   "id": "4a579e6d",
   "metadata": {},
   "source": [
    "**1. MAU in February:**"
   ]
  },
  {
   "cell_type": "code",
   "execution_count": 4,
   "id": "d3ceed8d",
   "metadata": {},
   "outputs": [
    {
     "data": {
      "text/plain": [
       "device_id    59808\n",
       "dtype: int64"
      ]
     },
     "execution_count": 4,
     "metadata": {},
     "output_type": "execute_result"
    }
   ],
   "source": [
    "df.query('date >= \"2020-02-01\" and date <= \"2020-02-30\"').agg({'device_id':'nunique'})"
   ]
  },
  {
   "cell_type": "markdown",
   "id": "964cd192",
   "metadata": {},
   "source": [
    "**2. Number of installs in January:**"
   ]
  },
  {
   "cell_type": "code",
   "execution_count": 5,
   "id": "9824251a",
   "metadata": {},
   "outputs": [
    {
     "data": {
      "text/plain": [
       "array(['app_start', 'choose_item', 'purchase', 'search', 'tap_basket',\n",
       "       'app_install', 'register'], dtype=object)"
      ]
     },
     "execution_count": 5,
     "metadata": {},
     "output_type": "execute_result"
    }
   ],
   "source": [
    "df.event.unique()"
   ]
  },
  {
   "cell_type": "code",
   "execution_count": 6,
   "id": "6058d167",
   "metadata": {},
   "outputs": [
    {
     "data": {
      "text/plain": [
       "device_id    63430\n",
       "dtype: int64"
      ]
     },
     "execution_count": 6,
     "metadata": {},
     "output_type": "execute_result"
    }
   ],
   "source": [
    "df.query('date >= \"2020-01-01\" and date <= \"2020-01-31\" and event == \"app_install\"')\\\n",
    "    .agg({'device_id':'nunique'})"
   ]
  },
  {
   "cell_type": "markdown",
   "id": "35a96019",
   "metadata": {},
   "source": [
    "**3. Assign cohorts to users based on the day the app was installed and calculate the conversion rate from install to purchase for them within 7 days. Which cohort had the highest conversion rate?**"
   ]
  },
  {
   "cell_type": "code",
   "execution_count": 7,
   "id": "1383057d",
   "metadata": {},
   "outputs": [],
   "source": [
    "df_query = df.query(' event == \"purchase\" or event == \"app_install\"')"
   ]
  },
  {
   "cell_type": "code",
   "execution_count": 8,
   "id": "eb76e97e",
   "metadata": {},
   "outputs": [],
   "source": [
    "df_cohg = df_query.pivot_table(index = ['device_id'], columns='event', values='date', aggfunc='min')\\\n",
    "                .reset_index()"
   ]
  },
  {
   "cell_type": "code",
   "execution_count": 9,
   "id": "aac66316",
   "metadata": {},
   "outputs": [],
   "source": [
    "df_cohg['app_install'] = pd.to_datetime(df_cohg['app_install'])"
   ]
  },
  {
   "cell_type": "code",
   "execution_count": 10,
   "id": "6629420b",
   "metadata": {},
   "outputs": [],
   "source": [
    "df_cohg['purchase'] = pd.to_datetime(df_cohg['purchase'])"
   ]
  },
  {
   "cell_type": "code",
   "execution_count": 11,
   "id": "a6994ab5",
   "metadata": {},
   "outputs": [],
   "source": [
    "df_cohg['conversion'] = np.where(((df_cohg['purchase'] - df_cohg['app_install'])).isna(),np.nan,\n",
    "                                 (df_cohg['purchase'] - df_cohg['app_install']) <= datetime.timedelta(days=7))"
   ]
  },
  {
   "cell_type": "code",
   "execution_count": 12,
   "id": "488367bd",
   "metadata": {},
   "outputs": [],
   "source": [
    "df_cohg = df_cohg.groupby('app_install')\\\n",
    "                .agg({'device_id': 'count','conversion': 'sum'})"
   ]
  },
  {
   "cell_type": "code",
   "execution_count": 13,
   "id": "03101c05",
   "metadata": {},
   "outputs": [],
   "source": [
    "df_cohg['conv_rate'] = df_cohg.conversion/df_cohg.device_id"
   ]
  },
  {
   "cell_type": "code",
   "execution_count": 14,
   "id": "8b9a992b",
   "metadata": {},
   "outputs": [
    {
     "data": {
      "text/html": [
       "<div>\n",
       "<style scoped>\n",
       "    .dataframe tbody tr th:only-of-type {\n",
       "        vertical-align: middle;\n",
       "    }\n",
       "\n",
       "    .dataframe tbody tr th {\n",
       "        vertical-align: top;\n",
       "    }\n",
       "\n",
       "    .dataframe thead th {\n",
       "        text-align: right;\n",
       "    }\n",
       "</style>\n",
       "<table border=\"1\" class=\"dataframe\">\n",
       "  <thead>\n",
       "    <tr style=\"text-align: right;\">\n",
       "      <th></th>\n",
       "      <th>device_id</th>\n",
       "      <th>conversion</th>\n",
       "      <th>conv_rate</th>\n",
       "    </tr>\n",
       "    <tr>\n",
       "      <th>app_install</th>\n",
       "      <th></th>\n",
       "      <th></th>\n",
       "      <th></th>\n",
       "    </tr>\n",
       "  </thead>\n",
       "  <tbody>\n",
       "    <tr>\n",
       "      <th>2020-01-09</th>\n",
       "      <td>1124</td>\n",
       "      <td>416.0</td>\n",
       "      <td>0.370107</td>\n",
       "    </tr>\n",
       "    <tr>\n",
       "      <th>2020-01-14</th>\n",
       "      <td>4054</td>\n",
       "      <td>1491.0</td>\n",
       "      <td>0.367785</td>\n",
       "    </tr>\n",
       "    <tr>\n",
       "      <th>2020-01-13</th>\n",
       "      <td>3582</td>\n",
       "      <td>1317.0</td>\n",
       "      <td>0.367672</td>\n",
       "    </tr>\n",
       "    <tr>\n",
       "      <th>2020-01-15</th>\n",
       "      <td>3390</td>\n",
       "      <td>1242.0</td>\n",
       "      <td>0.366372</td>\n",
       "    </tr>\n",
       "    <tr>\n",
       "      <th>2020-01-19</th>\n",
       "      <td>1803</td>\n",
       "      <td>654.0</td>\n",
       "      <td>0.362729</td>\n",
       "    </tr>\n",
       "    <tr>\n",
       "      <th>...</th>\n",
       "      <td>...</td>\n",
       "      <td>...</td>\n",
       "      <td>...</td>\n",
       "    </tr>\n",
       "    <tr>\n",
       "      <th>2020-02-21</th>\n",
       "      <td>2047</td>\n",
       "      <td>430.0</td>\n",
       "      <td>0.210064</td>\n",
       "    </tr>\n",
       "    <tr>\n",
       "      <th>2020-03-10</th>\n",
       "      <td>487</td>\n",
       "      <td>96.0</td>\n",
       "      <td>0.197125</td>\n",
       "    </tr>\n",
       "    <tr>\n",
       "      <th>2020-03-08</th>\n",
       "      <td>863</td>\n",
       "      <td>169.0</td>\n",
       "      <td>0.195829</td>\n",
       "    </tr>\n",
       "    <tr>\n",
       "      <th>2020-03-07</th>\n",
       "      <td>2291</td>\n",
       "      <td>448.0</td>\n",
       "      <td>0.195548</td>\n",
       "    </tr>\n",
       "    <tr>\n",
       "      <th>2020-03-06</th>\n",
       "      <td>4991</td>\n",
       "      <td>618.0</td>\n",
       "      <td>0.123823</td>\n",
       "    </tr>\n",
       "  </tbody>\n",
       "</table>\n",
       "<p>70 rows × 3 columns</p>\n",
       "</div>"
      ],
      "text/plain": [
       "             device_id  conversion  conv_rate\n",
       "app_install                                  \n",
       "2020-01-09        1124       416.0   0.370107\n",
       "2020-01-14        4054      1491.0   0.367785\n",
       "2020-01-13        3582      1317.0   0.367672\n",
       "2020-01-15        3390      1242.0   0.366372\n",
       "2020-01-19        1803       654.0   0.362729\n",
       "...                ...         ...        ...\n",
       "2020-02-21        2047       430.0   0.210064\n",
       "2020-03-10         487        96.0   0.197125\n",
       "2020-03-08         863       169.0   0.195829\n",
       "2020-03-07        2291       448.0   0.195548\n",
       "2020-03-06        4991       618.0   0.123823\n",
       "\n",
       "[70 rows x 3 columns]"
      ]
     },
     "execution_count": 14,
     "metadata": {},
     "output_type": "execute_result"
    }
   ],
   "source": [
    "df_cohg.sort_values('conv_rate', ascending=False)"
   ]
  },
  {
   "cell_type": "markdown",
   "id": "cec9e62c",
   "metadata": {},
   "source": [
    "**4. What paid marketing channel brought the most new users?**"
   ]
  },
  {
   "cell_type": "code",
   "execution_count": 16,
   "id": "06d2c290",
   "metadata": {},
   "outputs": [
    {
     "data": {
      "text/html": [
       "<div>\n",
       "<style scoped>\n",
       "    .dataframe tbody tr th:only-of-type {\n",
       "        vertical-align: middle;\n",
       "    }\n",
       "\n",
       "    .dataframe tbody tr th {\n",
       "        vertical-align: top;\n",
       "    }\n",
       "\n",
       "    .dataframe thead th {\n",
       "        text-align: right;\n",
       "    }\n",
       "</style>\n",
       "<table border=\"1\" class=\"dataframe\">\n",
       "  <thead>\n",
       "    <tr style=\"text-align: right;\">\n",
       "      <th></th>\n",
       "      <th>utm_source</th>\n",
       "      <th>os_name</th>\n",
       "    </tr>\n",
       "  </thead>\n",
       "  <tbody>\n",
       "    <tr>\n",
       "      <th>5</th>\n",
       "      <td>yandex-direct</td>\n",
       "      <td>25148</td>\n",
       "    </tr>\n",
       "    <tr>\n",
       "      <th>1</th>\n",
       "      <td>google_ads</td>\n",
       "      <td>22554</td>\n",
       "    </tr>\n",
       "    <tr>\n",
       "      <th>4</th>\n",
       "      <td>vk_ads</td>\n",
       "      <td>19914</td>\n",
       "    </tr>\n",
       "    <tr>\n",
       "      <th>2</th>\n",
       "      <td>instagram_ads</td>\n",
       "      <td>17182</td>\n",
       "    </tr>\n",
       "    <tr>\n",
       "      <th>0</th>\n",
       "      <td>facebook_ads</td>\n",
       "      <td>11945</td>\n",
       "    </tr>\n",
       "    <tr>\n",
       "      <th>3</th>\n",
       "      <td>referal</td>\n",
       "      <td>7947</td>\n",
       "    </tr>\n",
       "  </tbody>\n",
       "</table>\n",
       "</div>"
      ],
      "text/plain": [
       "      utm_source  os_name\n",
       "5  yandex-direct    25148\n",
       "1     google_ads    22554\n",
       "4         vk_ads    19914\n",
       "2  instagram_ads    17182\n",
       "0   facebook_ads    11945\n",
       "3        referal     7947"
      ]
     },
     "execution_count": 16,
     "metadata": {},
     "output_type": "execute_result"
    }
   ],
   "source": [
    "df.query('event == \"app_install\"').groupby(['utm_source'], as_index=False)\\\n",
    "                                .agg({'os_name':'count'})\\\n",
    "                                .sort_values('os_name', ascending=False)"
   ]
  },
  {
   "cell_type": "markdown",
   "id": "2dde8c91",
   "metadata": {},
   "source": [
    "**5. Analyze at what stage of the funnel most of the registered users fall off**"
   ]
  },
  {
   "cell_type": "code",
   "execution_count": 17,
   "id": "23baa277",
   "metadata": {},
   "outputs": [],
   "source": [
    "reg_date = df.query('event == \"register\"')[['date', 'device_id']]"
   ]
  },
  {
   "cell_type": "code",
   "execution_count": 18,
   "id": "5bbfee06",
   "metadata": {},
   "outputs": [],
   "source": [
    "df_fun = df.merge(reg_date, how='left', on='device_id').rename(columns={'date_x': 'date', 'date_y': 'date_of_reg'})"
   ]
  },
  {
   "cell_type": "code",
   "execution_count": 19,
   "id": "f453be4e",
   "metadata": {},
   "outputs": [
    {
     "data": {
      "text/html": [
       "<div>\n",
       "<style scoped>\n",
       "    .dataframe tbody tr th:only-of-type {\n",
       "        vertical-align: middle;\n",
       "    }\n",
       "\n",
       "    .dataframe tbody tr th {\n",
       "        vertical-align: top;\n",
       "    }\n",
       "\n",
       "    .dataframe thead th {\n",
       "        text-align: right;\n",
       "    }\n",
       "</style>\n",
       "<table border=\"1\" class=\"dataframe\">\n",
       "  <thead>\n",
       "    <tr style=\"text-align: right;\">\n",
       "      <th></th>\n",
       "      <th>Unnamed: 0</th>\n",
       "      <th>date</th>\n",
       "      <th>event</th>\n",
       "      <th>purchase_sum</th>\n",
       "      <th>os_name</th>\n",
       "      <th>device_id</th>\n",
       "      <th>utm_source</th>\n",
       "      <th>date_of_reg</th>\n",
       "    </tr>\n",
       "  </thead>\n",
       "  <tbody>\n",
       "    <tr>\n",
       "      <th>0</th>\n",
       "      <td>1</td>\n",
       "      <td>2020-01-01</td>\n",
       "      <td>app_start</td>\n",
       "      <td>NaN</td>\n",
       "      <td>ios</td>\n",
       "      <td>833621</td>\n",
       "      <td>vk_ads</td>\n",
       "      <td>2020-01-01</td>\n",
       "    </tr>\n",
       "    <tr>\n",
       "      <th>1</th>\n",
       "      <td>2</td>\n",
       "      <td>2020-01-01</td>\n",
       "      <td>app_start</td>\n",
       "      <td>NaN</td>\n",
       "      <td>android</td>\n",
       "      <td>1579237</td>\n",
       "      <td>referal</td>\n",
       "      <td>2020-01-01</td>\n",
       "    </tr>\n",
       "    <tr>\n",
       "      <th>2</th>\n",
       "      <td>3</td>\n",
       "      <td>2020-01-01</td>\n",
       "      <td>app_start</td>\n",
       "      <td>NaN</td>\n",
       "      <td>android</td>\n",
       "      <td>1737182</td>\n",
       "      <td>facebook_ads</td>\n",
       "      <td>2020-01-01</td>\n",
       "    </tr>\n",
       "    <tr>\n",
       "      <th>3</th>\n",
       "      <td>4</td>\n",
       "      <td>2020-01-01</td>\n",
       "      <td>app_start</td>\n",
       "      <td>NaN</td>\n",
       "      <td>ios</td>\n",
       "      <td>4029024</td>\n",
       "      <td>facebook_ads</td>\n",
       "      <td>NaN</td>\n",
       "    </tr>\n",
       "    <tr>\n",
       "      <th>4</th>\n",
       "      <td>6</td>\n",
       "      <td>2020-01-01</td>\n",
       "      <td>app_start</td>\n",
       "      <td>NaN</td>\n",
       "      <td>android</td>\n",
       "      <td>8383386</td>\n",
       "      <td>vk_ads</td>\n",
       "      <td>2020-01-23</td>\n",
       "    </tr>\n",
       "  </tbody>\n",
       "</table>\n",
       "</div>"
      ],
      "text/plain": [
       "   Unnamed: 0        date      event  purchase_sum  os_name  device_id  \\\n",
       "0           1  2020-01-01  app_start           NaN      ios     833621   \n",
       "1           2  2020-01-01  app_start           NaN  android    1579237   \n",
       "2           3  2020-01-01  app_start           NaN  android    1737182   \n",
       "3           4  2020-01-01  app_start           NaN      ios    4029024   \n",
       "4           6  2020-01-01  app_start           NaN  android    8383386   \n",
       "\n",
       "     utm_source date_of_reg  \n",
       "0        vk_ads  2020-01-01  \n",
       "1       referal  2020-01-01  \n",
       "2  facebook_ads  2020-01-01  \n",
       "3  facebook_ads         NaN  \n",
       "4        vk_ads  2020-01-23  "
      ]
     },
     "execution_count": 19,
     "metadata": {},
     "output_type": "execute_result"
    }
   ],
   "source": [
    "df_fun.head()"
   ]
  },
  {
   "cell_type": "code",
   "execution_count": 20,
   "id": "47957a17",
   "metadata": {},
   "outputs": [],
   "source": [
    "df_fun['reg_or_not'] = df_fun.date_of_reg < df_fun.date"
   ]
  },
  {
   "cell_type": "code",
   "execution_count": 21,
   "id": "e626c277",
   "metadata": {},
   "outputs": [],
   "source": [
    "reg_users = df_fun.query('reg_or_not == True')"
   ]
  },
  {
   "cell_type": "code",
   "execution_count": 22,
   "id": "5f2e96a1",
   "metadata": {},
   "outputs": [
    {
     "data": {
      "text/plain": [
       "event\n",
       "app_start      25756\n",
       "choose_item    23804\n",
       "purchase       15554\n",
       "search         25419\n",
       "tap_basket     21684\n",
       "Name: device_id, dtype: int64"
      ]
     },
     "execution_count": 22,
     "metadata": {},
     "output_type": "execute_result"
    }
   ],
   "source": [
    "reg_users.groupby('event')['device_id'].nunique()"
   ]
  },
  {
   "cell_type": "code",
   "execution_count": 23,
   "id": "64369f2d",
   "metadata": {},
   "outputs": [
    {
     "name": "stdout",
     "output_type": "stream",
     "text": [
      "Conversion to search from app start 0.99\n"
     ]
    }
   ],
   "source": [
    "print(f'''Conversion to search from app start {round(reg_users.query('event == \"search\"')['device_id'].nunique()\n",
    "        /reg_users.query('event == \"app_start\"')['device_id'].nunique(),2)}''')"
   ]
  },
  {
   "cell_type": "code",
   "execution_count": 24,
   "id": "ee4e0bec",
   "metadata": {},
   "outputs": [
    {
     "name": "stdout",
     "output_type": "stream",
     "text": [
      "Conversion to product choosing from search 0.94\n"
     ]
    }
   ],
   "source": [
    "print(f'''Conversion to product choosing from search {round(reg_users.query('event == \"choose_item\"')['device_id'].nunique()\n",
    "        /reg_users.query('event == \"search\"')['device_id'].nunique(),2)}''')"
   ]
  },
  {
   "cell_type": "code",
   "execution_count": 25,
   "id": "c9f7203b",
   "metadata": {},
   "outputs": [
    {
     "name": "stdout",
     "output_type": "stream",
     "text": [
      "Conversion to tap basket from product choosing 0.91\n"
     ]
    }
   ],
   "source": [
    "print(f'''Conversion to tap basket from product choosing {round(reg_users.query('event == \"tap_basket\"')['device_id'].nunique()\n",
    "        /reg_users.query('event == \"choose_item\"')['device_id'].nunique(),2)}''')"
   ]
  },
  {
   "cell_type": "code",
   "execution_count": 26,
   "id": "650e8660",
   "metadata": {},
   "outputs": [
    {
     "name": "stdout",
     "output_type": "stream",
     "text": [
      "Conversion to purchase from tap basket 0.72\n"
     ]
    }
   ],
   "source": [
    "print(f'''Conversion to purchase from tap basket {round(reg_users.query('event == \"purchase\"')['device_id'].nunique()\n",
    "        /reg_users.query('event == \"tap_basket\"')['device_id'].nunique(),2)}''')"
   ]
  },
  {
   "cell_type": "markdown",
   "id": "a78e5e11",
   "metadata": {},
   "source": [
    "**6. Users who came from which channels showed the lowest conversion on their first purchase?**"
   ]
  },
  {
   "cell_type": "code",
   "execution_count": 27,
   "id": "a8b9760f",
   "metadata": {},
   "outputs": [],
   "source": [
    "purch = df.query('event == \"purchase\"')\\\n",
    "            .groupby(['device_id', 'utm_source'])\\\n",
    "            .agg({'date':'min'})\\\n",
    "            .reset_index()\\\n",
    "            .groupby('utm_source')\\\n",
    "            .agg({'device_id':'nunique'})\\\n",
    "            .rename(columns={'device_id':'purchasers'})"
   ]
  },
  {
   "cell_type": "code",
   "execution_count": 28,
   "id": "1945ea93",
   "metadata": {},
   "outputs": [],
   "source": [
    "start = df.query('event == \"app_start\"')\\\n",
    "            .groupby(['device_id', 'utm_source'])\\\n",
    "            .agg({'date':'min'})\\\n",
    "            .reset_index()\\\n",
    "            .groupby('utm_source')\\\n",
    "            .agg({'device_id':'nunique'})\\\n",
    "            .rename(columns={'device_id':'clients'})"
   ]
  },
  {
   "cell_type": "code",
   "execution_count": 29,
   "id": "7ee71a86",
   "metadata": {},
   "outputs": [],
   "source": [
    "CR = purch.merge(start, on='utm_source')"
   ]
  },
  {
   "cell_type": "code",
   "execution_count": 30,
   "id": "e3768608",
   "metadata": {},
   "outputs": [],
   "source": [
    "CR['cr'] = CR.purchasers/CR.clients"
   ]
  },
  {
   "cell_type": "code",
   "execution_count": 31,
   "id": "895d2b6b",
   "metadata": {},
   "outputs": [
    {
     "data": {
      "text/html": [
       "<div>\n",
       "<style scoped>\n",
       "    .dataframe tbody tr th:only-of-type {\n",
       "        vertical-align: middle;\n",
       "    }\n",
       "\n",
       "    .dataframe tbody tr th {\n",
       "        vertical-align: top;\n",
       "    }\n",
       "\n",
       "    .dataframe thead th {\n",
       "        text-align: right;\n",
       "    }\n",
       "</style>\n",
       "<table border=\"1\" class=\"dataframe\">\n",
       "  <thead>\n",
       "    <tr style=\"text-align: right;\">\n",
       "      <th></th>\n",
       "      <th>purchasers</th>\n",
       "      <th>clients</th>\n",
       "      <th>cr</th>\n",
       "    </tr>\n",
       "    <tr>\n",
       "      <th>utm_source</th>\n",
       "      <th></th>\n",
       "      <th></th>\n",
       "      <th></th>\n",
       "    </tr>\n",
       "  </thead>\n",
       "  <tbody>\n",
       "    <tr>\n",
       "      <th>yandex-direct</th>\n",
       "      <td>10631</td>\n",
       "      <td>35136</td>\n",
       "      <td>0.302567</td>\n",
       "    </tr>\n",
       "    <tr>\n",
       "      <th>google_ads</th>\n",
       "      <td>10004</td>\n",
       "      <td>32837</td>\n",
       "      <td>0.304656</td>\n",
       "    </tr>\n",
       "    <tr>\n",
       "      <th>instagram_ads</th>\n",
       "      <td>9500</td>\n",
       "      <td>26915</td>\n",
       "      <td>0.352963</td>\n",
       "    </tr>\n",
       "    <tr>\n",
       "      <th>facebook_ads</th>\n",
       "      <td>7965</td>\n",
       "      <td>22513</td>\n",
       "      <td>0.353796</td>\n",
       "    </tr>\n",
       "    <tr>\n",
       "      <th>vk_ads</th>\n",
       "      <td>11034</td>\n",
       "      <td>29629</td>\n",
       "      <td>0.372405</td>\n",
       "    </tr>\n",
       "    <tr>\n",
       "      <th>referal</th>\n",
       "      <td>5707</td>\n",
       "      <td>13924</td>\n",
       "      <td>0.409868</td>\n",
       "    </tr>\n",
       "  </tbody>\n",
       "</table>\n",
       "</div>"
      ],
      "text/plain": [
       "               purchasers  clients        cr\n",
       "utm_source                                  \n",
       "yandex-direct       10631    35136  0.302567\n",
       "google_ads          10004    32837  0.304656\n",
       "instagram_ads        9500    26915  0.352963\n",
       "facebook_ads         7965    22513  0.353796\n",
       "vk_ads              11034    29629  0.372405\n",
       "referal              5707    13924  0.409868"
      ]
     },
     "execution_count": 31,
     "metadata": {},
     "output_type": "execute_result"
    }
   ],
   "source": [
    "CR.sort_values('cr')"
   ]
  },
  {
   "cell_type": "markdown",
   "id": "a5ff0386",
   "metadata": {},
   "source": [
    "**7. Users from which channel have a higher median first check? (only first purchases of users are considered)**"
   ]
  },
  {
   "cell_type": "code",
   "execution_count": 32,
   "id": "7ac1a2ef",
   "metadata": {},
   "outputs": [],
   "source": [
    "date_min = df.query('event == \"purchase\"')\\\n",
    "                .groupby('device_id')\\\n",
    "                .agg({'date':'min'})"
   ]
  },
  {
   "cell_type": "code",
   "execution_count": 33,
   "id": "b1e7130c",
   "metadata": {
    "scrolled": false
   },
   "outputs": [],
   "source": [
    "date_purch = df.query('event == \"purchase\"')[['date','device_id', 'purchase_sum', 'utm_source']]"
   ]
  },
  {
   "cell_type": "code",
   "execution_count": 34,
   "id": "5a635ade",
   "metadata": {},
   "outputs": [],
   "source": [
    "date_merge = date_min.merge(date_purch, how='left', on=['device_id', 'date'])"
   ]
  },
  {
   "cell_type": "code",
   "execution_count": 35,
   "id": "06923cc1",
   "metadata": {},
   "outputs": [
    {
     "data": {
      "text/html": [
       "<div>\n",
       "<style scoped>\n",
       "    .dataframe tbody tr th:only-of-type {\n",
       "        vertical-align: middle;\n",
       "    }\n",
       "\n",
       "    .dataframe tbody tr th {\n",
       "        vertical-align: top;\n",
       "    }\n",
       "\n",
       "    .dataframe thead th {\n",
       "        text-align: right;\n",
       "    }\n",
       "</style>\n",
       "<table border=\"1\" class=\"dataframe\">\n",
       "  <thead>\n",
       "    <tr style=\"text-align: right;\">\n",
       "      <th></th>\n",
       "      <th>purchase_sum</th>\n",
       "    </tr>\n",
       "    <tr>\n",
       "      <th>utm_source</th>\n",
       "      <th></th>\n",
       "    </tr>\n",
       "  </thead>\n",
       "  <tbody>\n",
       "    <tr>\n",
       "      <th>instagram_ads</th>\n",
       "      <td>394.5</td>\n",
       "    </tr>\n",
       "    <tr>\n",
       "      <th>referal</th>\n",
       "      <td>394.5</td>\n",
       "    </tr>\n",
       "    <tr>\n",
       "      <th>vk_ads</th>\n",
       "      <td>394.0</td>\n",
       "    </tr>\n",
       "    <tr>\n",
       "      <th>yandex-direct</th>\n",
       "      <td>393.5</td>\n",
       "    </tr>\n",
       "    <tr>\n",
       "      <th>google_ads</th>\n",
       "      <td>390.5</td>\n",
       "    </tr>\n",
       "    <tr>\n",
       "      <th>facebook_ads</th>\n",
       "      <td>388.5</td>\n",
       "    </tr>\n",
       "  </tbody>\n",
       "</table>\n",
       "</div>"
      ],
      "text/plain": [
       "               purchase_sum\n",
       "utm_source                 \n",
       "instagram_ads         394.5\n",
       "referal               394.5\n",
       "vk_ads                394.0\n",
       "yandex-direct         393.5\n",
       "google_ads            390.5\n",
       "facebook_ads          388.5"
      ]
     },
     "execution_count": 35,
     "metadata": {},
     "output_type": "execute_result"
    }
   ],
   "source": [
    "date_merge.groupby('utm_source').agg({'purchase_sum':'median'}).sort_values('purchase_sum', ascending=False)"
   ]
  },
  {
   "cell_type": "markdown",
   "id": "ee36e222",
   "metadata": {},
   "source": [
    "**8. Which paid acquisition channel has the highest ROMI?**  \n",
    "\n",
    "Advertising spend data:  \n",
    "yandex-direct – 10 491 707  \n",
    "google_ads – 10 534 878  \n",
    "facebook_ads– 8 590 498  \n",
    "instagram_ads\t – 8 561 626  \n",
    "vk_ads\t – 9 553 531  "
   ]
  },
  {
   "cell_type": "code",
   "execution_count": 36,
   "id": "fcac207e",
   "metadata": {},
   "outputs": [],
   "source": [
    "ROMI = df.groupby('utm_source')\\\n",
    "        .agg({'purchase_sum': 'sum'})\\\n",
    "        .reset_index()"
   ]
  },
  {
   "cell_type": "code",
   "execution_count": 38,
   "id": "0bf50d5f",
   "metadata": {},
   "outputs": [],
   "source": [
    "ROMI['market_ex'] = [8590498, 9534878, 8561626, 0, 9553531, 10491707]"
   ]
  },
  {
   "cell_type": "code",
   "execution_count": 40,
   "id": "c7332bd3",
   "metadata": {},
   "outputs": [],
   "source": [
    "ROMI['romi %'] = round((ROMI.purchase_sum - ROMI.market_ex)/ROMI.purchase_sum*100,2)"
   ]
  },
  {
   "cell_type": "code",
   "execution_count": 41,
   "id": "4b73ee49",
   "metadata": {},
   "outputs": [
    {
     "data": {
      "text/html": [
       "<div>\n",
       "<style scoped>\n",
       "    .dataframe tbody tr th:only-of-type {\n",
       "        vertical-align: middle;\n",
       "    }\n",
       "\n",
       "    .dataframe tbody tr th {\n",
       "        vertical-align: top;\n",
       "    }\n",
       "\n",
       "    .dataframe thead th {\n",
       "        text-align: right;\n",
       "    }\n",
       "</style>\n",
       "<table border=\"1\" class=\"dataframe\">\n",
       "  <thead>\n",
       "    <tr style=\"text-align: right;\">\n",
       "      <th></th>\n",
       "      <th>utm_source</th>\n",
       "      <th>purchase_sum</th>\n",
       "      <th>market_ex</th>\n",
       "      <th>romi %</th>\n",
       "    </tr>\n",
       "  </thead>\n",
       "  <tbody>\n",
       "    <tr>\n",
       "      <th>3</th>\n",
       "      <td>referal</td>\n",
       "      <td>7305436.0</td>\n",
       "      <td>0</td>\n",
       "      <td>100.00</td>\n",
       "    </tr>\n",
       "    <tr>\n",
       "      <th>4</th>\n",
       "      <td>vk_ads</td>\n",
       "      <td>13663424.5</td>\n",
       "      <td>9553531</td>\n",
       "      <td>30.08</td>\n",
       "    </tr>\n",
       "    <tr>\n",
       "      <th>2</th>\n",
       "      <td>instagram_ads</td>\n",
       "      <td>12053926.5</td>\n",
       "      <td>8561626</td>\n",
       "      <td>28.97</td>\n",
       "    </tr>\n",
       "    <tr>\n",
       "      <th>0</th>\n",
       "      <td>facebook_ads</td>\n",
       "      <td>10067275.5</td>\n",
       "      <td>8590498</td>\n",
       "      <td>14.67</td>\n",
       "    </tr>\n",
       "    <tr>\n",
       "      <th>1</th>\n",
       "      <td>google_ads</td>\n",
       "      <td>10705095.0</td>\n",
       "      <td>9534878</td>\n",
       "      <td>10.93</td>\n",
       "    </tr>\n",
       "    <tr>\n",
       "      <th>5</th>\n",
       "      <td>yandex-direct</td>\n",
       "      <td>11748818.5</td>\n",
       "      <td>10491707</td>\n",
       "      <td>10.70</td>\n",
       "    </tr>\n",
       "  </tbody>\n",
       "</table>\n",
       "</div>"
      ],
      "text/plain": [
       "      utm_source  purchase_sum  market_ex  romi %\n",
       "3        referal     7305436.0          0  100.00\n",
       "4         vk_ads    13663424.5    9553531   30.08\n",
       "2  instagram_ads    12053926.5    8561626   28.97\n",
       "0   facebook_ads    10067275.5    8590498   14.67\n",
       "1     google_ads    10705095.0    9534878   10.93\n",
       "5  yandex-direct    11748818.5   10491707   10.70"
      ]
     },
     "execution_count": 41,
     "metadata": {},
     "output_type": "execute_result"
    }
   ],
   "source": [
    "ROMI.sort_values('romi %', ascending=False)"
   ]
  }
 ],
 "metadata": {
  "kernelspec": {
   "display_name": "Python 3",
   "language": "python",
   "name": "python3"
  },
  "language_info": {
   "codemirror_mode": {
    "name": "ipython",
    "version": 3
   },
   "file_extension": ".py",
   "mimetype": "text/x-python",
   "name": "python",
   "nbconvert_exporter": "python",
   "pygments_lexer": "ipython3",
   "version": "3.8.8"
  }
 },
 "nbformat": 4,
 "nbformat_minor": 5
}
